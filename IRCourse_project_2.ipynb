{
  "nbformat": 4,
  "nbformat_minor": 0,
  "metadata": {
    "colab": {
      "provenance": [],
      "collapsed_sections": [
        "ddUbeNJr3aud",
        "Ef08O0cf3UWC",
        "8SxHWILr3ibT",
        "aRVypOrQ4Y0S",
        "YF2mZ1lIlyBk",
        "811FLejkCJSo"
      ]
    },
    "kernelspec": {
      "name": "python3",
      "display_name": "Python 3"
    },
    "language_info": {
      "name": "python"
    }
  },
  "cells": [
    {
      "cell_type": "markdown",
      "source": [
        "# Imports"
      ],
      "metadata": {
        "id": "ddUbeNJr3aud"
      }
    },
    {
      "cell_type": "code",
      "source": [
        "from google.colab import drive\n",
        "\n",
        "drive.mount('/content/gdrive')"
      ],
      "metadata": {
        "id": "RqD5FGoj04Q5",
        "colab": {
          "base_uri": "https://localhost:8080/"
        },
        "outputId": "13c4b7b2-b98b-47a6-bdb5-3205e7dded6f"
      },
      "execution_count": null,
      "outputs": [
        {
          "output_type": "stream",
          "name": "stdout",
          "text": [
            "Mounted at /content/gdrive\n"
          ]
        }
      ]
    },
    {
      "cell_type": "code",
      "source": [
        "%pip install -U ranx"
      ],
      "metadata": {
        "id": "ZTSKgLc1BxOp",
        "colab": {
          "base_uri": "https://localhost:8080/"
        },
        "outputId": "dbdca755-1eec-4ae6-8829-a62973431f33"
      },
      "execution_count": null,
      "outputs": [
        {
          "output_type": "stream",
          "name": "stdout",
          "text": [
            "Looking in indexes: https://pypi.org/simple, https://us-python.pkg.dev/colab-wheels/public/simple/\n",
            "Collecting ranx\n",
            "  Downloading ranx-0.3.3-py3-none-any.whl (95 kB)\n",
            "\u001b[K     |████████████████████████████████| 95 kB 2.6 MB/s \n",
            "\u001b[?25hRequirement already satisfied: tabulate in /usr/local/lib/python3.7/dist-packages (from ranx) (0.8.10)\n",
            "Requirement already satisfied: scipy>=1.6.0 in /usr/local/lib/python3.7/dist-packages (from ranx) (1.7.3)\n",
            "Requirement already satisfied: pandas in /usr/local/lib/python3.7/dist-packages (from ranx) (1.3.5)\n",
            "Collecting ir-datasets\n",
            "  Downloading ir_datasets-0.5.4-py3-none-any.whl (311 kB)\n",
            "\u001b[K     |████████████████████████████████| 311 kB 10.0 MB/s \n",
            "\u001b[?25hCollecting orjson\n",
            "  Downloading orjson-3.8.1-cp37-cp37m-manylinux_2_17_x86_64.manylinux2014_x86_64.whl (272 kB)\n",
            "\u001b[K     |████████████████████████████████| 272 kB 41.5 MB/s \n",
            "\u001b[?25hRequirement already satisfied: numba>=0.54.1 in /usr/local/lib/python3.7/dist-packages (from ranx) (0.56.4)\n",
            "Collecting lz4\n",
            "  Downloading lz4-4.0.2-cp37-cp37m-manylinux_2_17_x86_64.manylinux2014_x86_64.whl (1.2 MB)\n",
            "\u001b[K     |████████████████████████████████| 1.2 MB 47.0 MB/s \n",
            "\u001b[?25hRequirement already satisfied: tqdm in /usr/local/lib/python3.7/dist-packages (from ranx) (4.64.1)\n",
            "Collecting cbor2\n",
            "  Downloading cbor2-5.4.3-cp37-cp37m-manylinux_2_17_x86_64.manylinux2014_x86_64.whl (190 kB)\n",
            "\u001b[K     |████████████████████████████████| 190 kB 47.4 MB/s \n",
            "\u001b[?25hRequirement already satisfied: numpy in /usr/local/lib/python3.7/dist-packages (from ranx) (1.21.6)\n",
            "Requirement already satisfied: statsmodels in /usr/local/lib/python3.7/dist-packages (from ranx) (0.12.2)\n",
            "Collecting rich\n",
            "  Downloading rich-12.6.0-py3-none-any.whl (237 kB)\n",
            "\u001b[K     |████████████████████████████████| 237 kB 25.9 MB/s \n",
            "\u001b[?25hRequirement already satisfied: llvmlite<0.40,>=0.39.0dev0 in /usr/local/lib/python3.7/dist-packages (from numba>=0.54.1->ranx) (0.39.1)\n",
            "Requirement already satisfied: setuptools in /usr/local/lib/python3.7/dist-packages (from numba>=0.54.1->ranx) (57.4.0)\n",
            "Requirement already satisfied: importlib-metadata in /usr/local/lib/python3.7/dist-packages (from numba>=0.54.1->ranx) (4.13.0)\n",
            "Requirement already satisfied: zipp>=0.5 in /usr/local/lib/python3.7/dist-packages (from importlib-metadata->numba>=0.54.1->ranx) (3.10.0)\n",
            "Requirement already satisfied: typing-extensions>=3.6.4 in /usr/local/lib/python3.7/dist-packages (from importlib-metadata->numba>=0.54.1->ranx) (4.1.1)\n",
            "Requirement already satisfied: requests>=2.22.0 in /usr/local/lib/python3.7/dist-packages (from ir-datasets->ranx) (2.23.0)\n",
            "Collecting warc3-wet-clueweb09>=0.2.5\n",
            "  Downloading warc3-wet-clueweb09-0.2.5.tar.gz (17 kB)\n",
            "Collecting zlib-state>=0.1.3\n",
            "  Downloading zlib_state-0.1.5-cp37-cp37m-manylinux2010_x86_64.whl (72 kB)\n",
            "\u001b[K     |████████████████████████████████| 72 kB 1.2 MB/s \n",
            "\u001b[?25hCollecting ijson>=3.1.3\n",
            "  Downloading ijson-3.1.4-cp37-cp37m-manylinux2010_x86_64.whl (126 kB)\n",
            "\u001b[K     |████████████████████████████████| 126 kB 46.2 MB/s \n",
            "\u001b[?25hCollecting unlzw3>=0.2.1\n",
            "  Downloading unlzw3-0.2.1.tar.gz (5.8 kB)\n",
            "  Installing build dependencies ... \u001b[?25l\u001b[?25hdone\n",
            "  Getting requirements to build wheel ... \u001b[?25l\u001b[?25hdone\n",
            "    Preparing wheel metadata ... \u001b[?25l\u001b[?25hdone\n",
            "Collecting trec-car-tools>=2.5.4\n",
            "  Downloading trec_car_tools-2.6-py3-none-any.whl (8.4 kB)\n",
            "Collecting warc3-wet>=0.2.3\n",
            "  Downloading warc3_wet-0.2.3-py3-none-any.whl (13 kB)\n",
            "Collecting pyautocorpus>=0.1.1\n",
            "  Downloading pyautocorpus-0.1.9-cp37-cp37m-manylinux_2_12_x86_64.manylinux2010_x86_64.whl (294 kB)\n",
            "\u001b[K     |████████████████████████████████| 294 kB 60.8 MB/s \n",
            "\u001b[?25hRequirement already satisfied: pyyaml>=5.3.1 in /usr/local/lib/python3.7/dist-packages (from ir-datasets->ranx) (6.0)\n",
            "Requirement already satisfied: lxml>=4.5.2 in /usr/local/lib/python3.7/dist-packages (from ir-datasets->ranx) (4.9.1)\n",
            "Requirement already satisfied: beautifulsoup4>=4.4.1 in /usr/local/lib/python3.7/dist-packages (from ir-datasets->ranx) (4.6.3)\n",
            "Requirement already satisfied: certifi>=2017.4.17 in /usr/local/lib/python3.7/dist-packages (from requests>=2.22.0->ir-datasets->ranx) (2022.9.24)\n",
            "Requirement already satisfied: chardet<4,>=3.0.2 in /usr/local/lib/python3.7/dist-packages (from requests>=2.22.0->ir-datasets->ranx) (3.0.4)\n",
            "Requirement already satisfied: urllib3!=1.25.0,!=1.25.1,<1.26,>=1.21.1 in /usr/local/lib/python3.7/dist-packages (from requests>=2.22.0->ir-datasets->ranx) (1.24.3)\n",
            "Requirement already satisfied: idna<3,>=2.5 in /usr/local/lib/python3.7/dist-packages (from requests>=2.22.0->ir-datasets->ranx) (2.10)\n",
            "Collecting cbor>=1.0.0\n",
            "  Downloading cbor-1.0.0.tar.gz (20 kB)\n",
            "Requirement already satisfied: pytz>=2017.3 in /usr/local/lib/python3.7/dist-packages (from pandas->ranx) (2022.6)\n",
            "Requirement already satisfied: python-dateutil>=2.7.3 in /usr/local/lib/python3.7/dist-packages (from pandas->ranx) (2.8.2)\n",
            "Requirement already satisfied: six>=1.5 in /usr/local/lib/python3.7/dist-packages (from python-dateutil>=2.7.3->pandas->ranx) (1.15.0)\n",
            "Requirement already satisfied: pygments<3.0.0,>=2.6.0 in /usr/local/lib/python3.7/dist-packages (from rich->ranx) (2.6.1)\n",
            "Collecting commonmark<0.10.0,>=0.9.0\n",
            "  Downloading commonmark-0.9.1-py2.py3-none-any.whl (51 kB)\n",
            "\u001b[K     |████████████████████████████████| 51 kB 7.1 MB/s \n",
            "\u001b[?25hRequirement already satisfied: patsy>=0.5 in /usr/local/lib/python3.7/dist-packages (from statsmodels->ranx) (0.5.3)\n",
            "Building wheels for collected packages: cbor, unlzw3, warc3-wet-clueweb09\n",
            "  Building wheel for cbor (setup.py) ... \u001b[?25l\u001b[?25hdone\n",
            "  Created wheel for cbor: filename=cbor-1.0.0-cp37-cp37m-linux_x86_64.whl size=51302 sha256=5ddc82e17a41631b2da9bba2caec5686206e1ed4adca1630065f3d0a72e928a7\n",
            "  Stored in directory: /root/.cache/pip/wheels/19/77/49/c9c2c8dc5848502e606e8579d0bbda18b850fb056a6c62239d\n",
            "  Building wheel for unlzw3 (PEP 517) ... \u001b[?25l\u001b[?25hdone\n",
            "  Created wheel for unlzw3: filename=unlzw3-0.2.1-py3-none-any.whl size=6082 sha256=8b6d6784ee8cc28010040ca3b79a7c63afeac93b7e672a57f5f71b7674d270c4\n",
            "  Stored in directory: /root/.cache/pip/wheels/e1/3c/d9/e33962c8aad8999dc5560b6e71baafa2335c269f532f5e176a\n",
            "  Building wheel for warc3-wet-clueweb09 (setup.py) ... \u001b[?25l\u001b[?25hdone\n",
            "  Created wheel for warc3-wet-clueweb09: filename=warc3_wet_clueweb09-0.2.5-py3-none-any.whl size=18922 sha256=4fa6d05147e98011ce2d8060aefd3b21a8f01834869065f67aaf971eba6166f3\n",
            "  Stored in directory: /root/.cache/pip/wheels/42/d4/3c/7c2b0c3d400ad744e4db69f2fde166655da2ed2198bfc02db6\n",
            "Successfully built cbor unlzw3 warc3-wet-clueweb09\n",
            "Installing collected packages: cbor, zlib-state, warc3-wet-clueweb09, warc3-wet, unlzw3, trec-car-tools, pyautocorpus, lz4, ijson, commonmark, rich, orjson, ir-datasets, cbor2, ranx\n",
            "Successfully installed cbor-1.0.0 cbor2-5.4.3 commonmark-0.9.1 ijson-3.1.4 ir-datasets-0.5.4 lz4-4.0.2 orjson-3.8.1 pyautocorpus-0.1.9 ranx-0.3.3 rich-12.6.0 trec-car-tools-2.6 unlzw3-0.2.1 warc3-wet-0.2.3 warc3-wet-clueweb09-0.2.5 zlib-state-0.1.5\n"
          ]
        }
      ]
    },
    {
      "cell_type": "code",
      "execution_count": null,
      "metadata": {
        "id": "-XqvHpjVSkHV",
        "colab": {
          "base_uri": "https://localhost:8080/"
        },
        "outputId": "fc962341-dc77-4c6f-bb50-f917664eedd6"
      },
      "outputs": [
        {
          "output_type": "stream",
          "name": "stdout",
          "text": [
            "Looking in indexes: https://pypi.org/simple, https://us-python.pkg.dev/colab-wheels/public/simple/\n",
            "Collecting python-terrier\n",
            "  Downloading python-terrier-0.9.1.tar.gz (102 kB)\n",
            "\u001b[K     |████████████████████████████████| 102 kB 39.3 MB/s \n",
            "\u001b[?25hRequirement already satisfied: numpy in /usr/local/lib/python3.7/dist-packages (from python-terrier) (1.21.6)\n",
            "Requirement already satisfied: pandas in /usr/local/lib/python3.7/dist-packages (from python-terrier) (1.3.5)\n",
            "Collecting wget\n",
            "  Downloading wget-3.2.zip (10 kB)\n",
            "Requirement already satisfied: tqdm in /usr/local/lib/python3.7/dist-packages (from python-terrier) (4.64.1)\n",
            "Collecting pyjnius>=1.4.2\n",
            "  Downloading pyjnius-1.4.2-cp37-cp37m-manylinux_2_17_x86_64.manylinux2014_x86_64.whl (1.3 MB)\n",
            "\u001b[K     |████████████████████████████████| 1.3 MB 42.2 MB/s \n",
            "\u001b[?25hCollecting matchpy\n",
            "  Downloading matchpy-0.5.5-py3-none-any.whl (69 kB)\n",
            "\u001b[K     |████████████████████████████████| 69 kB 8.3 MB/s \n",
            "\u001b[?25hCollecting sklearn\n",
            "  Downloading sklearn-0.0.post1.tar.gz (3.6 kB)\n",
            "Collecting deprecated\n",
            "  Downloading Deprecated-1.2.13-py2.py3-none-any.whl (9.6 kB)\n",
            "Collecting chest\n",
            "  Downloading chest-0.2.3.tar.gz (9.6 kB)\n",
            "Requirement already satisfied: scipy in /usr/local/lib/python3.7/dist-packages (from python-terrier) (1.7.3)\n",
            "Requirement already satisfied: requests in /usr/local/lib/python3.7/dist-packages (from python-terrier) (2.23.0)\n",
            "Requirement already satisfied: joblib in /usr/local/lib/python3.7/dist-packages (from python-terrier) (1.2.0)\n",
            "Collecting nptyping==1.4.4\n",
            "  Downloading nptyping-1.4.4-py3-none-any.whl (31 kB)\n",
            "Requirement already satisfied: more_itertools in /usr/local/lib/python3.7/dist-packages (from python-terrier) (9.0.0)\n",
            "Requirement already satisfied: ir_datasets>=0.3.2 in /usr/local/lib/python3.7/dist-packages (from python-terrier) (0.5.4)\n",
            "Requirement already satisfied: jinja2 in /usr/local/lib/python3.7/dist-packages (from python-terrier) (2.11.3)\n",
            "Requirement already satisfied: statsmodels in /usr/local/lib/python3.7/dist-packages (from python-terrier) (0.12.2)\n",
            "Collecting ir_measures>=0.3.1\n",
            "  Downloading ir_measures-0.3.1.tar.gz (46 kB)\n",
            "\u001b[K     |████████████████████████████████| 46 kB 1.7 MB/s \n",
            "\u001b[?25hRequirement already satisfied: dill in /usr/local/lib/python3.7/dist-packages (from python-terrier) (0.3.6)\n",
            "Collecting pytrec_eval_terrier>=0.5.3\n",
            "  Downloading pytrec_eval_terrier-0.5.5-cp37-cp37m-manylinux_2_17_x86_64.manylinux2014_x86_64.whl (286 kB)\n",
            "\u001b[K     |████████████████████████████████| 286 kB 43.4 MB/s \n",
            "\u001b[?25hCollecting typish>=1.7.0\n",
            "  Downloading typish-1.9.3-py3-none-any.whl (45 kB)\n",
            "\u001b[K     |████████████████████████████████| 45 kB 2.9 MB/s \n",
            "\u001b[?25hRequirement already satisfied: pyautocorpus>=0.1.1 in /usr/local/lib/python3.7/dist-packages (from ir_datasets>=0.3.2->python-terrier) (0.1.9)\n",
            "Requirement already satisfied: beautifulsoup4>=4.4.1 in /usr/local/lib/python3.7/dist-packages (from ir_datasets>=0.3.2->python-terrier) (4.6.3)\n",
            "Requirement already satisfied: trec-car-tools>=2.5.4 in /usr/local/lib/python3.7/dist-packages (from ir_datasets>=0.3.2->python-terrier) (2.6)\n",
            "Requirement already satisfied: pyyaml>=5.3.1 in /usr/local/lib/python3.7/dist-packages (from ir_datasets>=0.3.2->python-terrier) (6.0)\n",
            "Requirement already satisfied: lz4>=3.1.1 in /usr/local/lib/python3.7/dist-packages (from ir_datasets>=0.3.2->python-terrier) (4.0.2)\n",
            "Requirement already satisfied: zlib-state>=0.1.3 in /usr/local/lib/python3.7/dist-packages (from ir_datasets>=0.3.2->python-terrier) (0.1.5)\n",
            "Requirement already satisfied: warc3-wet>=0.2.3 in /usr/local/lib/python3.7/dist-packages (from ir_datasets>=0.3.2->python-terrier) (0.2.3)\n",
            "Requirement already satisfied: lxml>=4.5.2 in /usr/local/lib/python3.7/dist-packages (from ir_datasets>=0.3.2->python-terrier) (4.9.1)\n",
            "Requirement already satisfied: warc3-wet-clueweb09>=0.2.5 in /usr/local/lib/python3.7/dist-packages (from ir_datasets>=0.3.2->python-terrier) (0.2.5)\n",
            "Requirement already satisfied: unlzw3>=0.2.1 in /usr/local/lib/python3.7/dist-packages (from ir_datasets>=0.3.2->python-terrier) (0.2.1)\n",
            "Requirement already satisfied: ijson>=3.1.3 in /usr/local/lib/python3.7/dist-packages (from ir_datasets>=0.3.2->python-terrier) (3.1.4)\n",
            "Collecting cwl-eval>=1.0.10\n",
            "  Downloading cwl-eval-1.0.12.tar.gz (31 kB)\n",
            "Requirement already satisfied: six>=1.7.0 in /usr/local/lib/python3.7/dist-packages (from pyjnius>=1.4.2->python-terrier) (1.15.0)\n",
            "Requirement already satisfied: urllib3!=1.25.0,!=1.25.1,<1.26,>=1.21.1 in /usr/local/lib/python3.7/dist-packages (from requests->python-terrier) (1.24.3)\n",
            "Requirement already satisfied: idna<3,>=2.5 in /usr/local/lib/python3.7/dist-packages (from requests->python-terrier) (2.10)\n",
            "Requirement already satisfied: certifi>=2017.4.17 in /usr/local/lib/python3.7/dist-packages (from requests->python-terrier) (2022.9.24)\n",
            "Requirement already satisfied: chardet<4,>=3.0.2 in /usr/local/lib/python3.7/dist-packages (from requests->python-terrier) (3.0.4)\n",
            "Requirement already satisfied: cbor>=1.0.0 in /usr/local/lib/python3.7/dist-packages (from trec-car-tools>=2.5.4->ir_datasets>=0.3.2->python-terrier) (1.0.0)\n",
            "Requirement already satisfied: heapdict in /usr/local/lib/python3.7/dist-packages (from chest->python-terrier) (1.0.1)\n",
            "Requirement already satisfied: wrapt<2,>=1.10 in /usr/local/lib/python3.7/dist-packages (from deprecated->python-terrier) (1.14.1)\n",
            "Requirement already satisfied: MarkupSafe>=0.23 in /usr/local/lib/python3.7/dist-packages (from jinja2->python-terrier) (2.0.1)\n",
            "Collecting multiset<3.0,>=2.0\n",
            "  Downloading multiset-2.1.1-py2.py3-none-any.whl (8.8 kB)\n",
            "Requirement already satisfied: pytz>=2017.3 in /usr/local/lib/python3.7/dist-packages (from pandas->python-terrier) (2022.6)\n",
            "Requirement already satisfied: python-dateutil>=2.7.3 in /usr/local/lib/python3.7/dist-packages (from pandas->python-terrier) (2.8.2)\n",
            "Requirement already satisfied: patsy>=0.5 in /usr/local/lib/python3.7/dist-packages (from statsmodels->python-terrier) (0.5.3)\n",
            "Building wheels for collected packages: python-terrier, ir-measures, cwl-eval, chest, sklearn, wget\n",
            "  Building wheel for python-terrier (setup.py) ... \u001b[?25l\u001b[?25hdone\n",
            "  Created wheel for python-terrier: filename=python_terrier-0.9.1-py3-none-any.whl size=110767 sha256=30bfcd498b5a06170b874d850b1895f2bd3f4c23283c00376cbe83d8a201039b\n",
            "  Stored in directory: /root/.cache/pip/wheels/a5/e2/45/ed1f2652af18e80c281ec10fbf4998c49c84fd7385518bf6a5\n",
            "  Building wheel for ir-measures (setup.py) ... \u001b[?25l\u001b[?25hdone\n",
            "  Created wheel for ir-measures: filename=ir_measures-0.3.1-py3-none-any.whl size=60193 sha256=a3d0677f3d64a46d7eb05c5cf37f6e0f10752129fb75141b60f88ce181838b31\n",
            "  Stored in directory: /root/.cache/pip/wheels/17/86/a6/8b9c92080cdc19346721307878315c19430fb4705716a5676a\n",
            "  Building wheel for cwl-eval (setup.py) ... \u001b[?25l\u001b[?25hdone\n",
            "  Created wheel for cwl-eval: filename=cwl_eval-1.0.12-py3-none-any.whl size=38085 sha256=0f80af1e2fb8e4f2b64fc1bfdd0e39c3c68e41ce4a1f5c6fa56d97b9ef91abca\n",
            "  Stored in directory: /root/.cache/pip/wheels/5c/09/32/5e203c9c2ec3d82b7ffa30a8bff17df266d397441e62d1d43e\n",
            "  Building wheel for chest (setup.py) ... \u001b[?25l\u001b[?25hdone\n",
            "  Created wheel for chest: filename=chest-0.2.3-py3-none-any.whl size=7633 sha256=7be260e1eea42ffcd8b38ac0063dd0e1ac69982cfcbed73179e756a8c07c22c6\n",
            "  Stored in directory: /root/.cache/pip/wheels/fc/f5/b9/c436e11300809e6b40d46a5d2592fb0bff89e0712f2e878dc7\n",
            "  Building wheel for sklearn (setup.py) ... \u001b[?25l\u001b[?25hdone\n",
            "  Created wheel for sklearn: filename=sklearn-0.0.post1-py3-none-any.whl size=2344 sha256=23dc303603906901ee16c2962efa8798eabf4548aa685aac421e404a369a2d0b\n",
            "  Stored in directory: /root/.cache/pip/wheels/42/56/cc/4a8bf86613aafd5b7f1b310477667c1fca5c51c3ae4124a003\n",
            "  Building wheel for wget (setup.py) ... \u001b[?25l\u001b[?25hdone\n",
            "  Created wheel for wget: filename=wget-3.2-py3-none-any.whl size=9675 sha256=fb5d5748181b731d01927711d37f70654120acab5f219b55d2fe936f11996295\n",
            "  Stored in directory: /root/.cache/pip/wheels/a1/b6/7c/0e63e34eb06634181c63adacca38b79ff8f35c37e3c13e3c02\n",
            "Successfully built python-terrier ir-measures cwl-eval chest sklearn wget\n",
            "Installing collected packages: typish, pytrec-eval-terrier, multiset, cwl-eval, wget, sklearn, pyjnius, nptyping, matchpy, ir-measures, deprecated, chest, python-terrier\n",
            "Successfully installed chest-0.2.3 cwl-eval-1.0.12 deprecated-1.2.13 ir-measures-0.3.1 matchpy-0.5.5 multiset-2.1.1 nptyping-1.4.4 pyjnius-1.4.2 python-terrier-0.9.1 pytrec-eval-terrier-0.5.5 sklearn-0.0.post1 typish-1.9.3 wget-3.2\n"
          ]
        }
      ],
      "source": [
        "pip install python-terrier"
      ]
    },
    {
      "cell_type": "code",
      "source": [
        "import pyterrier as pt\n",
        "if not pt.started():\n",
        "    pt.init()"
      ],
      "metadata": {
        "id": "X47PJO5vSofe",
        "colab": {
          "base_uri": "https://localhost:8080/"
        },
        "outputId": "e2709b46-ef16-4680-8403-9ea8796e38d9"
      },
      "execution_count": null,
      "outputs": [
        {
          "output_type": "stream",
          "name": "stdout",
          "text": [
            "terrier-assemblies 5.7 jar-with-dependencies not found, downloading to /root/.pyterrier...\n",
            "Done\n",
            "terrier-python-helper 0.0.7 jar not found, downloading to /root/.pyterrier...\n",
            "Done\n"
          ]
        },
        {
          "output_type": "stream",
          "name": "stderr",
          "text": [
            "PyTerrier 0.9.1 has loaded Terrier 5.7 (built by craigm on 2022-11-10 18:30) and terrier-helper 0.0.7\n",
            "\n"
          ]
        }
      ]
    },
    {
      "cell_type": "code",
      "source": [
        "import os\n",
        "import pandas as pd\n",
        "from nltk.corpus import stopwords\n",
        "from nltk.corpus.reader.tagged import word_tokenize\n",
        "import re, string\n",
        "import nltk\n",
        "nltk.download('stopwords')\n",
        "nltk.download('punkt')\n",
        "stop_words = stopwords.words('english')\n",
        "import xml.etree.cElementTree as ET\n",
        "from ranx import Qrels, Run, fuse, evaluate"
      ],
      "metadata": {
        "id": "VRw5hcJaSr-J",
        "colab": {
          "base_uri": "https://localhost:8080/"
        },
        "outputId": "bb8a400a-e73a-404d-972f-f87b7179c0c0"
      },
      "execution_count": null,
      "outputs": [
        {
          "output_type": "stream",
          "name": "stderr",
          "text": [
            "[nltk_data] Downloading package stopwords to /root/nltk_data...\n",
            "[nltk_data]   Unzipping corpora/stopwords.zip.\n",
            "[nltk_data] Downloading package punkt to /root/nltk_data...\n",
            "[nltk_data]   Unzipping tokenizers/punkt.zip.\n"
          ]
        }
      ]
    },
    {
      "cell_type": "markdown",
      "source": [
        "# Testing Code"
      ],
      "metadata": {
        "id": "Ef08O0cf3UWC"
      }
    },
    {
      "cell_type": "code",
      "source": [
        "# This is for testing pyterrier index function\n",
        "df = pd.DataFrame({\n",
        "    'docno':\n",
        "    ['1', '2', '3'],\n",
        "    'url':\n",
        "    ['url1', 'url2', 'url3'],\n",
        "    'text':\n",
        "    ['He ran out of money, so he had to stop playing',\n",
        "    'The waves were crashing on the shore; it was a',\n",
        "    'The body may perhaps compensates for the loss']\n",
        "})\n",
        "\n",
        "# index the text, record the docnos as metadata\n",
        "pd_indexer = pt.DFIndexer(\"./pd_index\", overwrite=True)\n",
        "indexref = pd_indexer.index(df[\"text\"], df)"
      ],
      "metadata": {
        "id": "aoHMGTVjSuO5"
      },
      "execution_count": null,
      "outputs": []
    },
    {
      "cell_type": "code",
      "source": [
        "# Function to convert XML file to Pandas Dataframe\n",
        "# Credit: https://stackoverflow.com/questions/63286268/how-to-convert-a-large-xml-file-to-pandas-dataframe\n",
        "def xml2df(file_path):\n",
        "\n",
        "  # Parsing XML File and obtaining root\n",
        "  tree = ET.parse(file_path)\n",
        "  root = tree.getroot()\n",
        "\n",
        "  dict_list = []\n",
        "\n",
        "  for _, elem in ET.iterparse(file_path, events=(\"end\",)):\n",
        "      if elem.tag == \"row\":\n",
        "        dict_list.append(elem.attrib)      # PARSE ALL ATTRIBUTES\n",
        "        elem.clear()\n",
        "\n",
        "  df = pd.DataFrame(dict_list)\n",
        "  return df\n",
        "\n",
        "df = xml2df(\"./gdrive/MyDrive/IRCourse_Project_Files/Posts.xml\")"
      ],
      "metadata": {
        "id": "aSKT6EGBDh7j"
      },
      "execution_count": null,
      "outputs": []
    },
    {
      "cell_type": "code",
      "source": [
        "df"
      ],
      "metadata": {
        "id": "y12n7xw9DztH",
        "colab": {
          "base_uri": "https://localhost:8080/"
        },
        "outputId": "6a0517d5-b424-4b14-9176-a8282d4f17fa"
      },
      "execution_count": null,
      "outputs": [
        {
          "output_type": "execute_result",
          "data": {
            "text/plain": [
              "            Id PostTypeId AcceptedAnswerId             CreationDate Score  \\\n",
              "0            1          1             3183  2010-08-19T19:29:48.403   177   \n",
              "1            2          1                9  2010-08-19T19:30:19.027    52   \n",
              "2            3          1              NaN  2010-08-19T19:30:54.283    30   \n",
              "3            4          1               34  2010-08-19T19:31:59.507    24   \n",
              "4            5          2              NaN  2010-08-19T19:32:29.257     5   \n",
              "...        ...        ...              ...                      ...   ...   \n",
              "153324  198877          2              NaN  2022-06-04T20:15:32.880     4   \n",
              "153325  198878          1              NaN  2022-06-04T22:07:44.610     2   \n",
              "153326  198879          2              NaN  2022-06-04T22:20:01.563     4   \n",
              "153327  198880          2              NaN  2022-06-05T01:44:24.483     0   \n",
              "153328  198881          2              NaN  2022-06-05T02:21:57.920     0   \n",
              "\n",
              "       ViewCount                                               Body  \\\n",
              "0         164710  <p>What are some of the rule changes that Path...   \n",
              "1          31128  <p>I am currently a player in a D&amp;D 3.5 ga...   \n",
              "2          19166  <p>Many RPGs are extremely complex and hard fo...   \n",
              "3           4241  <p>What are the official Wizards of the Coast ...   \n",
              "4            NaN  <p>Multiclassing no longer takes an XP hit, an...   \n",
              "...          ...                                                ...   \n",
              "153324       NaN  <h2>You should only ask for a check if there i...   \n",
              "153325        40  <p>I am a DM with general experience, I am not...   \n",
              "153326       NaN  <h2>There are a few of solutions you could try...   \n",
              "153327       NaN  <p>Here are my thoughts for each of the featur...   \n",
              "153328       NaN  <h2>I'm gonna go with neither.</h2>\\n<blockquo...   \n",
              "\n",
              "       OwnerUserId LastEditorUserId             LastEditDate  ...  \\\n",
              "0               18            33569  2018-12-01T00:56:14.820  ...   \n",
              "1               19             1204  2015-02-03T08:34:10.427  ...   \n",
              "2               33               -1  2017-03-16T15:45:25.800  ...   \n",
              "3               31            52533  2019-09-06T04:05:35.790  ...   \n",
              "4               39              NaN                      NaN  ...   \n",
              "...            ...              ...                      ...  ...   \n",
              "153324       75095            75095  2022-06-04T20:22:26.120  ...   \n",
              "153325       77173              NaN                      NaN  ...   \n",
              "153326       65394            65394  2022-06-04T22:25:44.233  ...   \n",
              "153327       76311              NaN                      NaN  ...   \n",
              "153328        5676              NaN                      NaN  ...   \n",
              "\n",
              "                                                     Tags AnswerCount  \\\n",
              "0           <pathfinder-1e><dnd-3.5e><edition-comparison>           6   \n",
              "1                                     <dnd-3.5e><fumbles>          12   \n",
              "2                                   <game-recommendation>           7   \n",
              "3               <dungeons-and-dragons><campaign-settings>           5   \n",
              "4                                                     NaN         NaN   \n",
              "...                                                   ...         ...   \n",
              "153324                                                NaN         NaN   \n",
              "153325  <dnd-5e><gm-techniques><dungeons-and-dragons><...           1   \n",
              "153326                                                NaN         NaN   \n",
              "153327                                                NaN         NaN   \n",
              "153328                                                NaN         NaN   \n",
              "\n",
              "       CommentCount FavoriteCount ContentLicense LastEditorDisplayName  \\\n",
              "0                 0            65   CC BY-SA 4.0                   NaN   \n",
              "1                 0           NaN   CC BY-SA 3.0               anon186   \n",
              "2                 1             8   CC BY-SA 3.0                   NaN   \n",
              "3                 0             1   CC BY-SA 4.0                   NaN   \n",
              "4                 0           NaN   CC BY-SA 2.5                   NaN   \n",
              "...             ...           ...            ...                   ...   \n",
              "153324            0           NaN   CC BY-SA 4.0                   NaN   \n",
              "153325            0           NaN   CC BY-SA 4.0                   NaN   \n",
              "153326            3           NaN   CC BY-SA 4.0                   NaN   \n",
              "153327            1           NaN   CC BY-SA 4.0                   NaN   \n",
              "153328            0           NaN   CC BY-SA 4.0                   NaN   \n",
              "\n",
              "                     ClosedDate       CommunityOwnedDate ParentId  \\\n",
              "0                           NaN                      NaN      NaN   \n",
              "1                           NaN                      NaN      NaN   \n",
              "2       2013-04-07T04:20:11.610                      NaN      NaN   \n",
              "3                           NaN  2010-08-20T14:56:21.283      NaN   \n",
              "4                           NaN                      NaN        1   \n",
              "...                         ...                      ...      ...   \n",
              "153324                      NaN                      NaN   198871   \n",
              "153325                      NaN                      NaN      NaN   \n",
              "153326                      NaN                      NaN   198878   \n",
              "153327                      NaN                      NaN   198506   \n",
              "153328                      NaN                      NaN   198871   \n",
              "\n",
              "       OwnerDisplayName  \n",
              "0                   NaN  \n",
              "1                   NaN  \n",
              "2                   NaN  \n",
              "3                   NaN  \n",
              "4                   NaN  \n",
              "...                 ...  \n",
              "153324              NaN  \n",
              "153325              NaN  \n",
              "153326              NaN  \n",
              "153327              NaN  \n",
              "153328              NaN  \n",
              "\n",
              "[153329 rows x 22 columns]"
            ],
            "text/html": [
              "\n",
              "  <div id=\"df-e82ef3c0-1760-4d0c-a21f-aae505f14298\">\n",
              "    <div class=\"colab-df-container\">\n",
              "      <div>\n",
              "<style scoped>\n",
              "    .dataframe tbody tr th:only-of-type {\n",
              "        vertical-align: middle;\n",
              "    }\n",
              "\n",
              "    .dataframe tbody tr th {\n",
              "        vertical-align: top;\n",
              "    }\n",
              "\n",
              "    .dataframe thead th {\n",
              "        text-align: right;\n",
              "    }\n",
              "</style>\n",
              "<table border=\"1\" class=\"dataframe\">\n",
              "  <thead>\n",
              "    <tr style=\"text-align: right;\">\n",
              "      <th></th>\n",
              "      <th>Id</th>\n",
              "      <th>PostTypeId</th>\n",
              "      <th>AcceptedAnswerId</th>\n",
              "      <th>CreationDate</th>\n",
              "      <th>Score</th>\n",
              "      <th>ViewCount</th>\n",
              "      <th>Body</th>\n",
              "      <th>OwnerUserId</th>\n",
              "      <th>LastEditorUserId</th>\n",
              "      <th>LastEditDate</th>\n",
              "      <th>...</th>\n",
              "      <th>Tags</th>\n",
              "      <th>AnswerCount</th>\n",
              "      <th>CommentCount</th>\n",
              "      <th>FavoriteCount</th>\n",
              "      <th>ContentLicense</th>\n",
              "      <th>LastEditorDisplayName</th>\n",
              "      <th>ClosedDate</th>\n",
              "      <th>CommunityOwnedDate</th>\n",
              "      <th>ParentId</th>\n",
              "      <th>OwnerDisplayName</th>\n",
              "    </tr>\n",
              "  </thead>\n",
              "  <tbody>\n",
              "    <tr>\n",
              "      <th>0</th>\n",
              "      <td>1</td>\n",
              "      <td>1</td>\n",
              "      <td>3183</td>\n",
              "      <td>2010-08-19T19:29:48.403</td>\n",
              "      <td>177</td>\n",
              "      <td>164710</td>\n",
              "      <td>&lt;p&gt;What are some of the rule changes that Path...</td>\n",
              "      <td>18</td>\n",
              "      <td>33569</td>\n",
              "      <td>2018-12-01T00:56:14.820</td>\n",
              "      <td>...</td>\n",
              "      <td>&lt;pathfinder-1e&gt;&lt;dnd-3.5e&gt;&lt;edition-comparison&gt;</td>\n",
              "      <td>6</td>\n",
              "      <td>0</td>\n",
              "      <td>65</td>\n",
              "      <td>CC BY-SA 4.0</td>\n",
              "      <td>NaN</td>\n",
              "      <td>NaN</td>\n",
              "      <td>NaN</td>\n",
              "      <td>NaN</td>\n",
              "      <td>NaN</td>\n",
              "    </tr>\n",
              "    <tr>\n",
              "      <th>1</th>\n",
              "      <td>2</td>\n",
              "      <td>1</td>\n",
              "      <td>9</td>\n",
              "      <td>2010-08-19T19:30:19.027</td>\n",
              "      <td>52</td>\n",
              "      <td>31128</td>\n",
              "      <td>&lt;p&gt;I am currently a player in a D&amp;amp;D 3.5 ga...</td>\n",
              "      <td>19</td>\n",
              "      <td>1204</td>\n",
              "      <td>2015-02-03T08:34:10.427</td>\n",
              "      <td>...</td>\n",
              "      <td>&lt;dnd-3.5e&gt;&lt;fumbles&gt;</td>\n",
              "      <td>12</td>\n",
              "      <td>0</td>\n",
              "      <td>NaN</td>\n",
              "      <td>CC BY-SA 3.0</td>\n",
              "      <td>anon186</td>\n",
              "      <td>NaN</td>\n",
              "      <td>NaN</td>\n",
              "      <td>NaN</td>\n",
              "      <td>NaN</td>\n",
              "    </tr>\n",
              "    <tr>\n",
              "      <th>2</th>\n",
              "      <td>3</td>\n",
              "      <td>1</td>\n",
              "      <td>NaN</td>\n",
              "      <td>2010-08-19T19:30:54.283</td>\n",
              "      <td>30</td>\n",
              "      <td>19166</td>\n",
              "      <td>&lt;p&gt;Many RPGs are extremely complex and hard fo...</td>\n",
              "      <td>33</td>\n",
              "      <td>-1</td>\n",
              "      <td>2017-03-16T15:45:25.800</td>\n",
              "      <td>...</td>\n",
              "      <td>&lt;game-recommendation&gt;</td>\n",
              "      <td>7</td>\n",
              "      <td>1</td>\n",
              "      <td>8</td>\n",
              "      <td>CC BY-SA 3.0</td>\n",
              "      <td>NaN</td>\n",
              "      <td>2013-04-07T04:20:11.610</td>\n",
              "      <td>NaN</td>\n",
              "      <td>NaN</td>\n",
              "      <td>NaN</td>\n",
              "    </tr>\n",
              "    <tr>\n",
              "      <th>3</th>\n",
              "      <td>4</td>\n",
              "      <td>1</td>\n",
              "      <td>34</td>\n",
              "      <td>2010-08-19T19:31:59.507</td>\n",
              "      <td>24</td>\n",
              "      <td>4241</td>\n",
              "      <td>&lt;p&gt;What are the official Wizards of the Coast ...</td>\n",
              "      <td>31</td>\n",
              "      <td>52533</td>\n",
              "      <td>2019-09-06T04:05:35.790</td>\n",
              "      <td>...</td>\n",
              "      <td>&lt;dungeons-and-dragons&gt;&lt;campaign-settings&gt;</td>\n",
              "      <td>5</td>\n",
              "      <td>0</td>\n",
              "      <td>1</td>\n",
              "      <td>CC BY-SA 4.0</td>\n",
              "      <td>NaN</td>\n",
              "      <td>NaN</td>\n",
              "      <td>2010-08-20T14:56:21.283</td>\n",
              "      <td>NaN</td>\n",
              "      <td>NaN</td>\n",
              "    </tr>\n",
              "    <tr>\n",
              "      <th>4</th>\n",
              "      <td>5</td>\n",
              "      <td>2</td>\n",
              "      <td>NaN</td>\n",
              "      <td>2010-08-19T19:32:29.257</td>\n",
              "      <td>5</td>\n",
              "      <td>NaN</td>\n",
              "      <td>&lt;p&gt;Multiclassing no longer takes an XP hit, an...</td>\n",
              "      <td>39</td>\n",
              "      <td>NaN</td>\n",
              "      <td>NaN</td>\n",
              "      <td>...</td>\n",
              "      <td>NaN</td>\n",
              "      <td>NaN</td>\n",
              "      <td>0</td>\n",
              "      <td>NaN</td>\n",
              "      <td>CC BY-SA 2.5</td>\n",
              "      <td>NaN</td>\n",
              "      <td>NaN</td>\n",
              "      <td>NaN</td>\n",
              "      <td>1</td>\n",
              "      <td>NaN</td>\n",
              "    </tr>\n",
              "    <tr>\n",
              "      <th>...</th>\n",
              "      <td>...</td>\n",
              "      <td>...</td>\n",
              "      <td>...</td>\n",
              "      <td>...</td>\n",
              "      <td>...</td>\n",
              "      <td>...</td>\n",
              "      <td>...</td>\n",
              "      <td>...</td>\n",
              "      <td>...</td>\n",
              "      <td>...</td>\n",
              "      <td>...</td>\n",
              "      <td>...</td>\n",
              "      <td>...</td>\n",
              "      <td>...</td>\n",
              "      <td>...</td>\n",
              "      <td>...</td>\n",
              "      <td>...</td>\n",
              "      <td>...</td>\n",
              "      <td>...</td>\n",
              "      <td>...</td>\n",
              "      <td>...</td>\n",
              "    </tr>\n",
              "    <tr>\n",
              "      <th>153324</th>\n",
              "      <td>198877</td>\n",
              "      <td>2</td>\n",
              "      <td>NaN</td>\n",
              "      <td>2022-06-04T20:15:32.880</td>\n",
              "      <td>4</td>\n",
              "      <td>NaN</td>\n",
              "      <td>&lt;h2&gt;You should only ask for a check if there i...</td>\n",
              "      <td>75095</td>\n",
              "      <td>75095</td>\n",
              "      <td>2022-06-04T20:22:26.120</td>\n",
              "      <td>...</td>\n",
              "      <td>NaN</td>\n",
              "      <td>NaN</td>\n",
              "      <td>0</td>\n",
              "      <td>NaN</td>\n",
              "      <td>CC BY-SA 4.0</td>\n",
              "      <td>NaN</td>\n",
              "      <td>NaN</td>\n",
              "      <td>NaN</td>\n",
              "      <td>198871</td>\n",
              "      <td>NaN</td>\n",
              "    </tr>\n",
              "    <tr>\n",
              "      <th>153325</th>\n",
              "      <td>198878</td>\n",
              "      <td>1</td>\n",
              "      <td>NaN</td>\n",
              "      <td>2022-06-04T22:07:44.610</td>\n",
              "      <td>2</td>\n",
              "      <td>40</td>\n",
              "      <td>&lt;p&gt;I am a DM with general experience, I am not...</td>\n",
              "      <td>77173</td>\n",
              "      <td>NaN</td>\n",
              "      <td>NaN</td>\n",
              "      <td>...</td>\n",
              "      <td>&lt;dnd-5e&gt;&lt;gm-techniques&gt;&lt;dungeons-and-dragons&gt;&lt;...</td>\n",
              "      <td>1</td>\n",
              "      <td>0</td>\n",
              "      <td>NaN</td>\n",
              "      <td>CC BY-SA 4.0</td>\n",
              "      <td>NaN</td>\n",
              "      <td>NaN</td>\n",
              "      <td>NaN</td>\n",
              "      <td>NaN</td>\n",
              "      <td>NaN</td>\n",
              "    </tr>\n",
              "    <tr>\n",
              "      <th>153326</th>\n",
              "      <td>198879</td>\n",
              "      <td>2</td>\n",
              "      <td>NaN</td>\n",
              "      <td>2022-06-04T22:20:01.563</td>\n",
              "      <td>4</td>\n",
              "      <td>NaN</td>\n",
              "      <td>&lt;h2&gt;There are a few of solutions you could try...</td>\n",
              "      <td>65394</td>\n",
              "      <td>65394</td>\n",
              "      <td>2022-06-04T22:25:44.233</td>\n",
              "      <td>...</td>\n",
              "      <td>NaN</td>\n",
              "      <td>NaN</td>\n",
              "      <td>3</td>\n",
              "      <td>NaN</td>\n",
              "      <td>CC BY-SA 4.0</td>\n",
              "      <td>NaN</td>\n",
              "      <td>NaN</td>\n",
              "      <td>NaN</td>\n",
              "      <td>198878</td>\n",
              "      <td>NaN</td>\n",
              "    </tr>\n",
              "    <tr>\n",
              "      <th>153327</th>\n",
              "      <td>198880</td>\n",
              "      <td>2</td>\n",
              "      <td>NaN</td>\n",
              "      <td>2022-06-05T01:44:24.483</td>\n",
              "      <td>0</td>\n",
              "      <td>NaN</td>\n",
              "      <td>&lt;p&gt;Here are my thoughts for each of the featur...</td>\n",
              "      <td>76311</td>\n",
              "      <td>NaN</td>\n",
              "      <td>NaN</td>\n",
              "      <td>...</td>\n",
              "      <td>NaN</td>\n",
              "      <td>NaN</td>\n",
              "      <td>1</td>\n",
              "      <td>NaN</td>\n",
              "      <td>CC BY-SA 4.0</td>\n",
              "      <td>NaN</td>\n",
              "      <td>NaN</td>\n",
              "      <td>NaN</td>\n",
              "      <td>198506</td>\n",
              "      <td>NaN</td>\n",
              "    </tr>\n",
              "    <tr>\n",
              "      <th>153328</th>\n",
              "      <td>198881</td>\n",
              "      <td>2</td>\n",
              "      <td>NaN</td>\n",
              "      <td>2022-06-05T02:21:57.920</td>\n",
              "      <td>0</td>\n",
              "      <td>NaN</td>\n",
              "      <td>&lt;h2&gt;I'm gonna go with neither.&lt;/h2&gt;\\n&lt;blockquo...</td>\n",
              "      <td>5676</td>\n",
              "      <td>NaN</td>\n",
              "      <td>NaN</td>\n",
              "      <td>...</td>\n",
              "      <td>NaN</td>\n",
              "      <td>NaN</td>\n",
              "      <td>0</td>\n",
              "      <td>NaN</td>\n",
              "      <td>CC BY-SA 4.0</td>\n",
              "      <td>NaN</td>\n",
              "      <td>NaN</td>\n",
              "      <td>NaN</td>\n",
              "      <td>198871</td>\n",
              "      <td>NaN</td>\n",
              "    </tr>\n",
              "  </tbody>\n",
              "</table>\n",
              "<p>153329 rows × 22 columns</p>\n",
              "</div>\n",
              "      <button class=\"colab-df-convert\" onclick=\"convertToInteractive('df-e82ef3c0-1760-4d0c-a21f-aae505f14298')\"\n",
              "              title=\"Convert this dataframe to an interactive table.\"\n",
              "              style=\"display:none;\">\n",
              "        \n",
              "  <svg xmlns=\"http://www.w3.org/2000/svg\" height=\"24px\"viewBox=\"0 0 24 24\"\n",
              "       width=\"24px\">\n",
              "    <path d=\"M0 0h24v24H0V0z\" fill=\"none\"/>\n",
              "    <path d=\"M18.56 5.44l.94 2.06.94-2.06 2.06-.94-2.06-.94-.94-2.06-.94 2.06-2.06.94zm-11 1L8.5 8.5l.94-2.06 2.06-.94-2.06-.94L8.5 2.5l-.94 2.06-2.06.94zm10 10l.94 2.06.94-2.06 2.06-.94-2.06-.94-.94-2.06-.94 2.06-2.06.94z\"/><path d=\"M17.41 7.96l-1.37-1.37c-.4-.4-.92-.59-1.43-.59-.52 0-1.04.2-1.43.59L10.3 9.45l-7.72 7.72c-.78.78-.78 2.05 0 2.83L4 21.41c.39.39.9.59 1.41.59.51 0 1.02-.2 1.41-.59l7.78-7.78 2.81-2.81c.8-.78.8-2.07 0-2.86zM5.41 20L4 18.59l7.72-7.72 1.47 1.35L5.41 20z\"/>\n",
              "  </svg>\n",
              "      </button>\n",
              "      \n",
              "  <style>\n",
              "    .colab-df-container {\n",
              "      display:flex;\n",
              "      flex-wrap:wrap;\n",
              "      gap: 12px;\n",
              "    }\n",
              "\n",
              "    .colab-df-convert {\n",
              "      background-color: #E8F0FE;\n",
              "      border: none;\n",
              "      border-radius: 50%;\n",
              "      cursor: pointer;\n",
              "      display: none;\n",
              "      fill: #1967D2;\n",
              "      height: 32px;\n",
              "      padding: 0 0 0 0;\n",
              "      width: 32px;\n",
              "    }\n",
              "\n",
              "    .colab-df-convert:hover {\n",
              "      background-color: #E2EBFA;\n",
              "      box-shadow: 0px 1px 2px rgba(60, 64, 67, 0.3), 0px 1px 3px 1px rgba(60, 64, 67, 0.15);\n",
              "      fill: #174EA6;\n",
              "    }\n",
              "\n",
              "    [theme=dark] .colab-df-convert {\n",
              "      background-color: #3B4455;\n",
              "      fill: #D2E3FC;\n",
              "    }\n",
              "\n",
              "    [theme=dark] .colab-df-convert:hover {\n",
              "      background-color: #434B5C;\n",
              "      box-shadow: 0px 1px 3px 1px rgba(0, 0, 0, 0.15);\n",
              "      filter: drop-shadow(0px 1px 2px rgba(0, 0, 0, 0.3));\n",
              "      fill: #FFFFFF;\n",
              "    }\n",
              "  </style>\n",
              "\n",
              "      <script>\n",
              "        const buttonEl =\n",
              "          document.querySelector('#df-e82ef3c0-1760-4d0c-a21f-aae505f14298 button.colab-df-convert');\n",
              "        buttonEl.style.display =\n",
              "          google.colab.kernel.accessAllowed ? 'block' : 'none';\n",
              "\n",
              "        async function convertToInteractive(key) {\n",
              "          const element = document.querySelector('#df-e82ef3c0-1760-4d0c-a21f-aae505f14298');\n",
              "          const dataTable =\n",
              "            await google.colab.kernel.invokeFunction('convertToInteractive',\n",
              "                                                     [key], {});\n",
              "          if (!dataTable) return;\n",
              "\n",
              "          const docLinkHtml = 'Like what you see? Visit the ' +\n",
              "            '<a target=\"_blank\" href=https://colab.research.google.com/notebooks/data_table.ipynb>data table notebook</a>'\n",
              "            + ' to learn more about interactive tables.';\n",
              "          element.innerHTML = '';\n",
              "          dataTable['output_type'] = 'display_data';\n",
              "          await google.colab.output.renderOutput(dataTable, element);\n",
              "          const docLink = document.createElement('div');\n",
              "          docLink.innerHTML = docLinkHtml;\n",
              "          element.appendChild(docLink);\n",
              "        }\n",
              "      </script>\n",
              "    </div>\n",
              "  </div>\n",
              "  "
            ]
          },
          "metadata": {},
          "execution_count": 8
        }
      ]
    },
    {
      "cell_type": "markdown",
      "source": [
        "# Search Systems"
      ],
      "metadata": {
        "id": "lMKsEnBR3W3D"
      }
    },
    {
      "cell_type": "markdown",
      "source": [
        "### Turn the xml into a pd df"
      ],
      "metadata": {
        "id": "8SxHWILr3ibT"
      }
    },
    {
      "cell_type": "code",
      "source": [
        "# this function will take in a string , clean it up, and return it\n",
        "def clean_text(text):\n",
        "    token_words = re.sub(\"<.*?>|\\\\n|&quot;\", \" \", text.lower())\n",
        "    token_words = word_tokenize(token_words.translate(str.maketrans('', '', string.punctuation)))\n",
        "    token_words = [word for word in token_words if word not in stop_words]\n",
        "    return \" \".join(token_words)\n",
        "\n",
        "# turn the xml into a dataframe\n",
        "# df = pd.read_xml(\"./gdrive/MyDrive/IRCourse_Project_Files/Posts.xml\")\n",
        "# Function to convert XML file to Pandas Dataframe\n",
        "# Credit: https://stackoverflow.com/questions/63286268/how-to-convert-a-large-xml-file-to-pandas-dataframe\n",
        "def xml2df(file_path):\n",
        "\n",
        "  # Parsing XML File and obtaining root\n",
        "  tree = ET.parse(file_path)\n",
        "  root = tree.getroot()\n",
        "\n",
        "  dict_list = []\n",
        "\n",
        "  for _, elem in ET.iterparse(file_path, events=(\"end\",)):\n",
        "      if elem.tag == \"row\":\n",
        "        dict_list.append(elem.attrib)      # PARSE ALL ATTRIBUTES\n",
        "        elem.clear()\n",
        "\n",
        "  df = pd.DataFrame(dict_list)\n",
        "  return df\n",
        "\n",
        "df = xml2df(\"./gdrive/MyDrive/IRCourse_Project_Files/Posts.xml\")\n",
        "\n",
        "# lambda function for converting nonetype to empty string\n",
        "#conv = lambda i : i or ''\n",
        "# print(conv(df.iloc[4].Title))\n",
        "# print(df.iloc[4].Title + \" \" + df.iloc[4].Body)\n",
        "\n",
        "# make a text column with title + body and get rid of unnecessary columns\n",
        "df['Title'] = df['Title'].fillna('')\n",
        "df['text'] = + df['Body'] + \" \" + df['Title']\n",
        "df = df.drop(columns=['PostTypeId', 'AcceptedAnswerId', 'CreationDate', 'Score',\n",
        "       'ViewCount', 'Body', 'OwnerUserId', 'LastEditorUserId', 'LastEditDate',\n",
        "       'LastActivityDate', 'Title', 'Tags', 'AnswerCount', 'CommentCount',\n",
        "       'FavoriteCount', 'ContentLicense', 'LastEditorDisplayName',\n",
        "       'ClosedDate', 'CommunityOwnedDate', 'ParentId', 'OwnerDisplayName'])\n",
        "\n",
        "# set the text column to type string\n",
        "df = df.astype({'text': str})\n",
        "\n",
        "# apply the clean text function to text\n",
        "df['text'] = df['text'].apply(clean_text)\n",
        "\n",
        "# rename id to docno\n",
        "df = df.rename(columns={'Id': 'docno'})\n",
        "\n",
        "# make the docno a string\n",
        "df['docno'] = df['docno'].apply(str)\n",
        "\n",
        "# add url\n",
        "# df['url'] = \"url\" + df['docno'].apply(str)"
      ],
      "metadata": {
        "id": "mNiOOAQ-3d7a"
      },
      "execution_count": null,
      "outputs": []
    },
    {
      "cell_type": "code",
      "source": [
        "# df.head(20)"
      ],
      "metadata": {
        "id": "nLddi1Rf6jcR"
      },
      "execution_count": null,
      "outputs": []
    },
    {
      "cell_type": "markdown",
      "source": [
        "### Create the index"
      ],
      "metadata": {
        "id": "aRVypOrQ4Y0S"
      }
    },
    {
      "cell_type": "code",
      "source": [
        "pd_indexer = pt.DFIndexer(\"./pd_index\", overwrite=True, blocks=True)\n",
        "index_ref = pd_indexer.index(df['text'], df)\n",
        "index = pt.IndexFactory.of(index_ref)"
      ],
      "metadata": {
        "id": "10YU9PeU4X_K",
        "colab": {
          "base_uri": "https://localhost:8080/"
        },
        "outputId": "fe2f0396-896b-44df-e7aa-155576c76993"
      },
      "execution_count": null,
      "outputs": [
        {
          "output_type": "stream",
          "name": "stdout",
          "text": [
            "19:43:57.505 [main] WARN org.terrier.structures.indexing.Indexer - Adding an empty document to the index (6237) - further warnings are suppressed\n",
            "19:46:26.904 [main] WARN org.terrier.structures.indexing.Indexer - Indexed 331 empty documents\n"
          ]
        }
      ]
    },
    {
      "cell_type": "code",
      "source": [
        "bm25 = pt.BatchRetrieve(index, wmodel=\"BM25\")\n",
        "tf_idf = pt.BatchRetrieve(index, wmodel=\"TF_IDF\")\n",
        "dirichletlm = pt.BatchRetrieve(index, wmodel=\"DirichletLM\")"
      ],
      "metadata": {
        "id": "_OpowTSD5tic"
      },
      "execution_count": null,
      "outputs": []
    },
    {
      "cell_type": "code",
      "source": [
        "# bm_25_result = bm25.search(\"Roleplaying an intelligent character\")\n",
        "# tf_idf_result = tf_idf.search(\"Roleplaying an intelligent character\")"
      ],
      "metadata": {
        "id": "ShshZfpb59kR"
      },
      "execution_count": null,
      "outputs": []
    },
    {
      "cell_type": "code",
      "source": [
        "# bm_25_result"
      ],
      "metadata": {
        "id": "ngTGtT3z6KOT"
      },
      "execution_count": null,
      "outputs": []
    },
    {
      "cell_type": "code",
      "source": [
        "# tf_idf_result"
      ],
      "metadata": {
        "id": "_vk-aPnKGZhE"
      },
      "execution_count": null,
      "outputs": []
    },
    {
      "cell_type": "markdown",
      "source": [
        "### Retrieval Results and Qrel Generation:"
      ],
      "metadata": {
        "id": "YF2mZ1lIlyBk"
      }
    },
    {
      "cell_type": "code",
      "source": [
        "def retrieveTopNResults(model, queries, n=5):\n",
        "  '''\n",
        "  This function will retrieve the top n results for each of the 20 queries\n",
        "  and return the results in a dataframe.\n",
        "\n",
        "  model can be (case-sensitive): \"tf_idf\", \"bm25\", \"dirichletlm\"\n",
        "  '''\n",
        "  results = {}\n",
        "\n",
        "  if model == \"tf_idf\":\n",
        "    results = pt.BatchRetrieve(index, num_results = n, wmodel=\"TF_IDF\").transform(queries)\n",
        "  elif model == \"bm25\":\n",
        "    results = pt.BatchRetrieve(index, num_results = n, wmodel=\"BM25\").transform(queries)\n",
        "  elif model == \"dirichlet\":\n",
        "    pipeline = (bm25 % n) >> dirichletlm\n",
        "    results = pipeline.transform(queries) \n",
        "\n",
        "  return results"
      ],
      "metadata": {
        "id": "JNxwYXVOUvlp"
      },
      "execution_count": null,
      "outputs": []
    },
    {
      "cell_type": "code",
      "source": [
        "# Takes a model and queries and stores the results in a dictionary, puts that dictionary in a file\n",
        "\n",
        "def generateModelQrel(model, queries, n=5):\n",
        "  result = {}\n",
        "  # For each query, save top n query results\n",
        "  if model == \"tf_idf\":\n",
        "    result = pt.BatchRetrieve(index, num_results = n, wmodel=\"TF_IDF\").transform(queries)\n",
        "  elif model == \"bm25\":\n",
        "    result = pt.BatchRetrieve(index, num_results = n, wmodel=\"BM25\").transform(queries)\n",
        "  elif model == \"dirichlet\":\n",
        "    pipeline = (bm25 % 100) >> dirichletlm\n",
        "    result = pipeline.transform(queries) \n",
        "  \n",
        "  pt.io.write_results(result, (\"./gdrive/MyDrive/IRCourse_Project_Files/\" + model + \"_qrel_run.txt\"), format='trec')"
      ],
      "metadata": {
        "id": "Mdvqs8hxFxMK"
      },
      "execution_count": null,
      "outputs": []
    },
    {
      "cell_type": "code",
      "source": [
        "queries = [\"apps\", \"apps dnd\", \"best apps to use for dnd online\", \"town\", \n",
        "            \"towns in forgotten realms\", \"religious towns in forgotten realms\",\n",
        "            \"character sheet\", \"character sheet druid\", \n",
        "            \"how to fill out a character sheet for a druid\", \"intelligent\",\n",
        "            \"intelligent character\", \"roleplaying an intelligent character\",\n",
        "            \"resurrection\", \"resurrection spells\", \"should i allow resurrection spells\",\n",
        "            \"concentration\", \"spell concentration\", \"how does spell concentration work\",\n",
        "            \"multiclass\", \"how to multiclass\"]\n",
        "queries_quid = [\"Q001\", \"Q002\", \"Q003\", \"Q004\", \"Q005\", \"Q006\", \"Q007\", \n",
        "                \"Q008\", \"Q009\", \"Q010\", \"Q011\", \"Q012\", \"Q013\", \"Q014\",\n",
        "                \"Q015\", \"Q016\", \"Q017\", \"Q018\", \"Q019\", \"Q020\"]\n",
        "# Queries in dataframe\n",
        "queries_df = pd.DataFrame({\"qid\": queries_quid, \"query\": queries})\n",
        "\n",
        "#pt.BatchRetrieve(index, num_results = 5, wmodel=\"TF_IDF\").transform(queries_df)\n",
        "generateModelQrel(\"tf_idf\", queries_df, 5)\n",
        "generateModelQrel(\"bm25\", queries_df, 5)\n",
        "generateModelQrel(\"dirichlet\", queries_df, 5)"
      ],
      "metadata": {
        "id": "AYaEwZNqmxcY"
      },
      "execution_count": null,
      "outputs": []
    },
    {
      "cell_type": "code",
      "source": [
        "\"\"\"\n",
        "Retrieval results are sized 19266 because the first query \"apps\" only returns\n",
        "265 results for both systems, which is then pipelined into dirichletlm. \n",
        "\"\"\"\n",
        "# Saving retrieval results:\n",
        "n = 1000\n",
        "tfidf_results = retrieveTopNResults(\"tf_idf\", queries_df, n)\n",
        "bm25_results = retrieveTopNResults(\"bm25\", queries_df, n)\n",
        "dirichletlm_results = retrieveTopNResults(\"dirichlet\", queries_df, n)\n",
        "\n",
        "# Confirm sizes are expected:\n",
        "print(tfidf_results.shape)\n",
        "print(bm25_results.shape)\n",
        "print(dirichletlm_results.shape)\n",
        "\n",
        "# Save results to QRELs:\n",
        "pt.io.write_results(tfidf_results, (\"./gdrive/MyDrive/IRCourse_Project_Files/Qrel_1000/tfidf_run.txt\"), format='trec')\n",
        "pt.io.write_results(bm25_results, (\"./gdrive/MyDrive/IRCourse_Project_Files/Qrel_1000/bm25_run.txt\"), format='trec')\n",
        "pt.io.write_results(dirichletlm_results, (\"./gdrive/MyDrive/IRCourse_Project_Files/Qrel_1000/dirichletlm_run.txt\"), format='trec')"
      ],
      "metadata": {
        "colab": {
          "base_uri": "https://localhost:8080/"
        },
        "id": "Y_6b1b-vbFdW",
        "outputId": "31792c68-1e46-4f83-d87c-53609da24783"
      },
      "execution_count": 22,
      "outputs": [
        {
          "output_type": "stream",
          "name": "stdout",
          "text": [
            "(19266, 6)\n",
            "(19266, 6)\n",
            "(19266, 6)\n"
          ]
        }
      ]
    },
    {
      "cell_type": "markdown",
      "source": [
        "### Using Ranx for Ranking:"
      ],
      "metadata": {
        "id": "811FLejkCJSo"
      }
    },
    {
      "cell_type": "code",
      "source": [
        "# Prep Qrel files for Ranx:\n",
        "# Download qrel files from google sheets and put in google drive folder\n",
        "\n",
        "\"\"\"tfidf_qrel = pd.read_csv(\"./gdrive/MyDrive/IRCourse_Project_Files/tf_idf_qrel.txt\", sep=\"\\t\", header=None)\n",
        "tfidf_qrel.rename(columns={0: \"qid\", 1: \"0\", 2: \"docno\", 3: \"score\"}, inplace=True)\n",
        "tfidf_qrel['docno'] = tfidf_qrel['docno'].astype(str)\n",
        "\n",
        "bm25_qrel = pd.read_csv(\"./gdrive/MyDrive/IRCourse_Project_Files/bm25_qrel.txt\", sep=\"\\t\", header=None)\n",
        "bm25_qrel.rename(columns={0: \"qid\", 1: \"0\", 2: \"docno\", 3: \"score\"}, inplace=True)\n",
        "bm25_qrel['docno'] = bm25_qrel['docno'].astype(str)\n",
        "\n",
        "combined_qrel = tfidf_qrel.merge(bm25_qrel, how='outer')\n",
        "\n",
        "dirichlet_qrel = pd.read_csv(\"./gdrive/MyDrive/IRCourse_Project_Files/dirichlet_qrel.txt\", sep=\"\\t\", header=None)\n",
        "dirichlet_qrel.rename(columns={0: \"qid\", 1: \"0\", 2: \"docno\", 3: \"score\"}, inplace=True)\n",
        "dirichlet_qrel['docno'] = dirichlet_qrel['docno'].astype(str)\n",
        "\n",
        "# print(tfidf_qrel.tail())\n",
        "# print(bm25_qrel.tail())\n",
        "# print(combined_qrel.tail())\n",
        "\n",
        "# Generate Ranx qrel from df\n",
        "tfidf_qrel = Qrels.from_df(\n",
        "    df=tfidf_qrel,\n",
        "    q_id_col=\"qid\",\n",
        "    doc_id_col=\"docno\",\n",
        "    score_col=\"score\")\n",
        "\n",
        "bm25_qrel = Qrels.from_df(\n",
        "    df=bm25_qrel,\n",
        "    q_id_col=\"qid\",\n",
        "    doc_id_col=\"docno\",\n",
        "    score_col=\"score\")\n",
        "\n",
        "combined_qrel = Qrels.from_df(\n",
        "    df=combined_qrel,\n",
        "    q_id_col=\"qid\",\n",
        "    doc_id_col=\"docno\",\n",
        "    score_col=\"score\")\n",
        "\n",
        "dirichlet_qrel = Qrels.from_df(\n",
        "    df=dirichlet_qrel,\n",
        "    q_id_col=\"qid\",\n",
        "    doc_id_col=\"docno\",\n",
        "    score_col=\"score\")\n",
        "\"\"\"\n",
        "\n",
        "systems_qrel = pd.read_csv(\"./gdrive/MyDrive/IRCourse_Project_Files/all_systems_qrel.txt\", sep=\"\\t\", header=None)\n",
        "systems_qrel.rename(columns={0: \"qid\", 1: \"0\", 2: \"docno\", 3: \"score\"}, inplace=True)\n",
        "systems_qrel['docno'] = systems_qrel['docno'].astype(str)\n",
        "\n",
        "systems_qrel = Qrels.from_df(\n",
        "    df=systems_qrel,\n",
        "    q_id_col=\"qid\",\n",
        "    doc_id_col=\"docno\",\n",
        "    score_col=\"score\")"
      ],
      "metadata": {
        "id": "ZsCE7AJbCOCK"
      },
      "execution_count": 27,
      "outputs": []
    },
    {
      "cell_type": "code",
      "source": [
        "# Prep Run files for Ranx:\n",
        "tfidf_run = pd.read_csv(\"./gdrive/MyDrive/IRCourse_Project_Files/tf_idf_qrel_run.txt\", sep=\"\\t\", header=None)\n",
        "tfidf_run.rename(columns={0: \"qid\", 1: \"Q0\", 2: \"docno\", 3: \"rank\", 4: \"score\", 5: \"system\"}, inplace=True)\n",
        "tfidf_run['docno'] = tfidf_run['docno'].astype(str)\n",
        "\n",
        "bm25_run = pd.read_csv(\"./gdrive/MyDrive/IRCourse_Project_Files/bm25_qrel_run.txt\", sep=\"\\t\", header=None)\n",
        "bm25_run.rename(columns={0: \"qid\", 1: \"Q0\", 2: \"docno\", 3: \"rank\", 4: \"score\", 5: \"system\"}, inplace=True)\n",
        "bm25_run['docno'] = bm25_run['docno'].astype(str)\n",
        "\n",
        "dirichlet_run = pd.read_csv(\"./gdrive/MyDrive/IRCourse_Project_Files/dirichlet_qrel_run.txt\", sep=\"\\t\", header=None)\n",
        "dirichlet_run.rename(columns={0: \"qid\", 1: \"Q0\", 2: \"docno\", 3: \"rank\", 4: \"score\", 5: \"system\"}, inplace=True)\n",
        "dirichlet_run['docno'] = dirichlet_run['docno'].astype(str)\n",
        "\n",
        "# Generate Ranx run from df\n",
        "tfidf_run = Run.from_df(\n",
        "    df=tfidf_run,\n",
        "    q_id_col=\"qid\",\n",
        "    doc_id_col=\"docno\",\n",
        "    score_col=\"score\")\n",
        "\n",
        "bm25_run = Run.from_df(\n",
        "    df=bm25_run,\n",
        "    q_id_col=\"qid\",\n",
        "    doc_id_col=\"docno\",\n",
        "    score_col=\"score\")\n",
        "\n",
        "dirichlet_run = Run.from_df(\n",
        "    df=dirichlet_run,\n",
        "    q_id_col=\"qid\",\n",
        "    doc_id_col=\"docno\",\n",
        "    score_col=\"score\")"
      ],
      "metadata": {
        "id": "pJi7gPxUJnDW"
      },
      "execution_count": 31,
      "outputs": []
    },
    {
      "cell_type": "code",
      "source": [
        "# Fusion and evaluation:\n",
        "## If we want to use a different fusion method, change here:\n",
        "combined_run = fuse(\n",
        "    runs = [tfidf_run, bm25_run],\n",
        "    method=\"rrf\")\n",
        "\n",
        "print(combined_run.name, evaluate(systems_qrel, combined_run, \"ndcg@5-l2\"))\n",
        "print(combined_run.name, evaluate(systems_qrel, combined_run, \"precision@5-l2\"))"
      ],
      "metadata": {
        "id": "O3eS2sfUMrVE",
        "colab": {
          "base_uri": "https://localhost:8080/",
          "height": 356
        },
        "outputId": "f5a00288-afb7-4723-bfa3-50349c097eee"
      },
      "execution_count": 32,
      "outputs": [
        {
          "output_type": "error",
          "ename": "AssertionError",
          "evalue": "ignored",
          "traceback": [
            "\u001b[0;31m---------------------------------------------------------------------------\u001b[0m",
            "\u001b[0;31mAssertionError\u001b[0m                            Traceback (most recent call last)",
            "\u001b[0;32m<ipython-input-32-ac08e1d95530>\u001b[0m in \u001b[0;36m<module>\u001b[0;34m\u001b[0m\n\u001b[1;32m      3\u001b[0m combined_run = fuse(\n\u001b[1;32m      4\u001b[0m     \u001b[0mruns\u001b[0m \u001b[0;34m=\u001b[0m \u001b[0;34m[\u001b[0m\u001b[0mtfidf_run\u001b[0m\u001b[0;34m,\u001b[0m \u001b[0mbm25_run\u001b[0m\u001b[0;34m]\u001b[0m\u001b[0;34m,\u001b[0m\u001b[0;34m\u001b[0m\u001b[0;34m\u001b[0m\u001b[0m\n\u001b[0;32m----> 5\u001b[0;31m     method=\"rrf\")\n\u001b[0m\u001b[1;32m      6\u001b[0m \u001b[0;34m\u001b[0m\u001b[0m\n\u001b[1;32m      7\u001b[0m \u001b[0mprint\u001b[0m\u001b[0;34m(\u001b[0m\u001b[0mcombined_run\u001b[0m\u001b[0;34m.\u001b[0m\u001b[0mname\u001b[0m\u001b[0;34m,\u001b[0m \u001b[0mevaluate\u001b[0m\u001b[0;34m(\u001b[0m\u001b[0msystems_qrel\u001b[0m\u001b[0;34m,\u001b[0m \u001b[0mcombined_run\u001b[0m\u001b[0;34m,\u001b[0m \u001b[0;34m\"ndcg@5-l2\"\u001b[0m\u001b[0;34m)\u001b[0m\u001b[0;34m)\u001b[0m\u001b[0;34m\u001b[0m\u001b[0;34m\u001b[0m\u001b[0m\n",
            "\u001b[0;32m/usr/local/lib/python3.7/dist-packages/ranx/meta/fuse.py\u001b[0m in \u001b[0;36mfuse\u001b[0;34m(runs, norm, method, params)\u001b[0m\n\u001b[1;32m     21\u001b[0m             assert (\n\u001b[1;32m     22\u001b[0m                 \u001b[0mrun_i\u001b[0m\u001b[0;34m.\u001b[0m\u001b[0mkeys\u001b[0m\u001b[0;34m(\u001b[0m\u001b[0;34m)\u001b[0m \u001b[0;34m==\u001b[0m \u001b[0mrun_j\u001b[0m\u001b[0;34m.\u001b[0m\u001b[0mkeys\u001b[0m\u001b[0;34m(\u001b[0m\u001b[0;34m)\u001b[0m\u001b[0;34m\u001b[0m\u001b[0;34m\u001b[0m\u001b[0m\n\u001b[0;32m---> 23\u001b[0;31m             ), f\"Runs {i} and {j} query ids do not match\"\n\u001b[0m\u001b[1;32m     24\u001b[0m \u001b[0;34m\u001b[0m\u001b[0m\n\u001b[1;32m     25\u001b[0m     \u001b[0;31m# Normalization ------------------------------------------------------------\u001b[0m\u001b[0;34m\u001b[0m\u001b[0;34m\u001b[0m\u001b[0;34m\u001b[0m\u001b[0m\n",
            "\u001b[0;31mAssertionError\u001b[0m: Runs 0 and 0 query ids do not match"
          ]
        }
      ]
    },
    {
      "cell_type": "code",
      "source": [
        "# P@5 and NDCG@5 for TFIDF, BM25, Dirichlet Pipeline\n",
        "\n",
        "# TFIDF:\n",
        "print(\"TF-IDF NDCG@5: \" + str(round(evaluate(systems_qrel, tfidf_run, \"ndcg@5-l2\"), 2)))\n",
        "print(\"TF-IDF P@5: \" + str(round(evaluate(systems_qrel, tfidf_run, \"precision@5-l2\"), 2)))\n",
        "print(\"=====\")\n",
        "print(\"BM25 NDCG@5: \" + str(round(evaluate(systems_qrel, bm25_run, \"ndcg@5-l2\"), 2)))\n",
        "print(\"BM25 P@5: \" + str(round(evaluate(systems_qrel, bm25_run, \"precision@5-l2\"), 2)))\n",
        "print(\"=====\")\n",
        "print(\"Dirichlet NCDG@5: \" + str(round(evaluate(systems_qrel, dirichlet_run, \"ndcg@5-l2\"), 2)))\n",
        "print(\"Dirichlet P@5: \" + str(round(evaluate(systems_qrel, dirichlet_run, \"precision@5-l2\"), 2)))\n",
        "\n",
        "\n",
        "# If Dirichlet is unusually low, download the runfile from the spreadsheet and \n",
        "# use that instead of the generated one."
      ],
      "metadata": {
        "id": "S0FZ0m4UUkPi",
        "colab": {
          "base_uri": "https://localhost:8080/",
          "height": 380
        },
        "outputId": "eb6e9b3e-5e85-4788-c28d-0523d4047ff3"
      },
      "execution_count": 34,
      "outputs": [
        {
          "output_type": "error",
          "ename": "AssertionError",
          "evalue": "ignored",
          "traceback": [
            "\u001b[0;31m---------------------------------------------------------------------------\u001b[0m",
            "\u001b[0;31mAssertionError\u001b[0m                            Traceback (most recent call last)",
            "\u001b[0;32m<ipython-input-34-0a61bc117eac>\u001b[0m in \u001b[0;36m<module>\u001b[0;34m\u001b[0m\n\u001b[1;32m      2\u001b[0m \u001b[0;34m\u001b[0m\u001b[0m\n\u001b[1;32m      3\u001b[0m \u001b[0;31m# TFIDF:\u001b[0m\u001b[0;34m\u001b[0m\u001b[0;34m\u001b[0m\u001b[0;34m\u001b[0m\u001b[0m\n\u001b[0;32m----> 4\u001b[0;31m \u001b[0mprint\u001b[0m\u001b[0;34m(\u001b[0m\u001b[0;34m\"TF-IDF NDCG@5: \"\u001b[0m \u001b[0;34m+\u001b[0m \u001b[0mstr\u001b[0m\u001b[0;34m(\u001b[0m\u001b[0mround\u001b[0m\u001b[0;34m(\u001b[0m\u001b[0mevaluate\u001b[0m\u001b[0;34m(\u001b[0m\u001b[0msystems_qrel\u001b[0m\u001b[0;34m,\u001b[0m \u001b[0mtfidf_run\u001b[0m\u001b[0;34m,\u001b[0m \u001b[0;34m\"ndcg@5-l2\"\u001b[0m\u001b[0;34m)\u001b[0m\u001b[0;34m,\u001b[0m \u001b[0;36m2\u001b[0m\u001b[0;34m)\u001b[0m\u001b[0;34m)\u001b[0m\u001b[0;34m)\u001b[0m\u001b[0;34m\u001b[0m\u001b[0;34m\u001b[0m\u001b[0m\n\u001b[0m\u001b[1;32m      5\u001b[0m \u001b[0mprint\u001b[0m\u001b[0;34m(\u001b[0m\u001b[0;34m\"TF-IDF P@5: \"\u001b[0m \u001b[0;34m+\u001b[0m \u001b[0mstr\u001b[0m\u001b[0;34m(\u001b[0m\u001b[0mround\u001b[0m\u001b[0;34m(\u001b[0m\u001b[0mevaluate\u001b[0m\u001b[0;34m(\u001b[0m\u001b[0msystems_qrel\u001b[0m\u001b[0;34m,\u001b[0m \u001b[0mtfidf_run\u001b[0m\u001b[0;34m,\u001b[0m \u001b[0;34m\"precision@5-l2\"\u001b[0m\u001b[0;34m)\u001b[0m\u001b[0;34m,\u001b[0m \u001b[0;36m2\u001b[0m\u001b[0;34m)\u001b[0m\u001b[0;34m)\u001b[0m\u001b[0;34m)\u001b[0m\u001b[0;34m\u001b[0m\u001b[0;34m\u001b[0m\u001b[0m\n\u001b[1;32m      6\u001b[0m \u001b[0mprint\u001b[0m\u001b[0;34m(\u001b[0m\u001b[0;34m\"=====\"\u001b[0m\u001b[0;34m)\u001b[0m\u001b[0;34m\u001b[0m\u001b[0;34m\u001b[0m\u001b[0m\n",
            "\u001b[0;32m/usr/local/lib/python3.7/dist-packages/ranx/meta/evaluate.py\u001b[0m in \u001b[0;36mevaluate\u001b[0;34m(qrels, run, metrics, return_mean, threads, save_results_in_run)\u001b[0m\n\u001b[1;32m    126\u001b[0m \u001b[0;34m\u001b[0m\u001b[0m\n\u001b[1;32m    127\u001b[0m     \u001b[0;32mif\u001b[0m \u001b[0mtype\u001b[0m\u001b[0;34m(\u001b[0m\u001b[0mqrels\u001b[0m\u001b[0;34m)\u001b[0m \u001b[0;32min\u001b[0m \u001b[0;34m[\u001b[0m\u001b[0mQrels\u001b[0m\u001b[0;34m,\u001b[0m \u001b[0mdict\u001b[0m\u001b[0;34m]\u001b[0m \u001b[0;32mand\u001b[0m \u001b[0mtype\u001b[0m\u001b[0;34m(\u001b[0m\u001b[0mrun\u001b[0m\u001b[0;34m)\u001b[0m \u001b[0;32min\u001b[0m \u001b[0;34m[\u001b[0m\u001b[0mRun\u001b[0m\u001b[0;34m,\u001b[0m \u001b[0mdict\u001b[0m\u001b[0;34m]\u001b[0m\u001b[0;34m:\u001b[0m\u001b[0;34m\u001b[0m\u001b[0;34m\u001b[0m\u001b[0m\n\u001b[0;32m--> 128\u001b[0;31m         \u001b[0mcheck_keys\u001b[0m\u001b[0;34m(\u001b[0m\u001b[0mqrels\u001b[0m\u001b[0;34m,\u001b[0m \u001b[0mrun\u001b[0m\u001b[0;34m)\u001b[0m\u001b[0;34m\u001b[0m\u001b[0;34m\u001b[0m\u001b[0m\n\u001b[0m\u001b[1;32m    129\u001b[0m \u001b[0;34m\u001b[0m\u001b[0m\n\u001b[1;32m    130\u001b[0m     \u001b[0m_qrels\u001b[0m \u001b[0;34m=\u001b[0m \u001b[0mconvert_qrels\u001b[0m\u001b[0;34m(\u001b[0m\u001b[0mqrels\u001b[0m\u001b[0;34m)\u001b[0m\u001b[0;34m\u001b[0m\u001b[0;34m\u001b[0m\u001b[0m\n",
            "\u001b[0;32m/usr/local/lib/python3.7/dist-packages/ranx/meta/evaluate.py\u001b[0m in \u001b[0;36mcheck_keys\u001b[0;34m(qrels, run)\u001b[0m\n\u001b[1;32m     61\u001b[0m \u001b[0;34m\u001b[0m\u001b[0m\n\u001b[1;32m     62\u001b[0m \u001b[0;32mdef\u001b[0m \u001b[0mcheck_keys\u001b[0m\u001b[0;34m(\u001b[0m\u001b[0mqrels\u001b[0m\u001b[0;34m,\u001b[0m \u001b[0mrun\u001b[0m\u001b[0;34m)\u001b[0m\u001b[0;34m:\u001b[0m\u001b[0;34m\u001b[0m\u001b[0;34m\u001b[0m\u001b[0m\n\u001b[0;32m---> 63\u001b[0;31m     \u001b[0;32massert\u001b[0m \u001b[0mqrels\u001b[0m\u001b[0;34m.\u001b[0m\u001b[0mkeys\u001b[0m\u001b[0;34m(\u001b[0m\u001b[0;34m)\u001b[0m \u001b[0;34m==\u001b[0m \u001b[0mrun\u001b[0m\u001b[0;34m.\u001b[0m\u001b[0mkeys\u001b[0m\u001b[0;34m(\u001b[0m\u001b[0;34m)\u001b[0m\u001b[0;34m,\u001b[0m \u001b[0;34m\"Qrels and Run query ids do not match\"\u001b[0m\u001b[0;34m\u001b[0m\u001b[0;34m\u001b[0m\u001b[0m\n\u001b[0m\u001b[1;32m     64\u001b[0m \u001b[0;34m\u001b[0m\u001b[0m\n\u001b[1;32m     65\u001b[0m \u001b[0;34m\u001b[0m\u001b[0m\n",
            "\u001b[0;31mAssertionError\u001b[0m: Qrels and Run query ids do not match"
          ]
        }
      ]
    },
    {
      "cell_type": "code",
      "source": [
        "# QE Qrel:\n",
        "qe_run = pd.read_csv(\"./gdrive/MyDrive/IRCourse_Project_Files/qe_qrel_run.txt\", sep=\" \", header=None)\n",
        "qe_run.rename(columns={0: \"qid\", 1: \"Q0\", 2: \"docno\", 3: \"rank\", 4: \"score\", 5: \"system\"}, inplace=True)\n",
        "qe_run['docno'] = qe_run['docno'].astype(str)\n",
        "\n",
        "qe_qrel = pd.read_csv(\"./gdrive/MyDrive/IRCourse_Project_Files/qe_qrel.txt\", sep=\"\\t\", header=None)\n",
        "qe_qrel.rename(columns={0: \"qid\", 1: \"0\", 2: \"docno\", 3: \"score\"}, inplace=True)\n",
        "qe_qrel['docno'] = qe_qrel['docno'].astype(str)\n",
        "\n",
        "\n",
        "qe_qrel = Qrels.from_df(\n",
        "    df=qe_qrel,\n",
        "    q_id_col=\"qid\",\n",
        "    doc_id_col=\"docno\",\n",
        "    score_col=\"score\")\n",
        "\n",
        "qe_run = Run.from_df(\n",
        "    df=qe_run,\n",
        "    q_id_col=\"qid\",\n",
        "    doc_id_col=\"docno\",\n",
        "    score_col=\"score\")\n",
        "\n",
        "print(\"TF-IDF NDCG@5: \" + str(round(evaluate(qe_qrel, qe_run, \"ndcg@5-l2\"), 2)))\n",
        "print(\"TF-IDF P@5: \" + str(round(evaluate(qe_qrel, qe_run, \"precision@5-l2\"), 2)))"
      ],
      "metadata": {
        "id": "D7rLGmn6OBFR"
      },
      "execution_count": null,
      "outputs": []
    },
    {
      "cell_type": "markdown",
      "source": [
        "# Query Expansion"
      ],
      "metadata": {
        "id": "y5Bj-nJyHwBM"
      }
    },
    {
      "cell_type": "code",
      "source": [
        "# Sequential Dependence\n",
        "# https://pyterrier.readthedocs.io/en/latest/rewrite.html\n",
        "# http://ciir.cs.umass.edu/pubfiles/ir-484.pdf\n",
        "\n",
        "sdm = pt.rewrite.SequentialDependence()\n",
        "# dph = pt.BatchRetrieve(index, wmodel=\"DPH\")\n",
        "pipelineQE = sdm >> dirichletlm\n",
        "\n",
        "# bo1 = pt.rewrite.Bo1QueryExpansion(index)\n",
        "# pipelineQE = bm25 >> bo1 >> bm25\n",
        "\n",
        "QE_results = pipelineQE.transform(queries_df)\n",
        "\n",
        "# Take only top 5 results\n",
        "QE_results = QE_results.groupby(\"qid\").head(5).reset_index()\n",
        "QE_results\n",
        "\n",
        "pt.io.write_results(QE_results, (\"./gdrive/MyDrive/IRCourse_Project_Files/qe_qrel_run.txt\"), format='trec')"
      ],
      "metadata": {
        "id": "U0-WhMGXH3Jy"
      },
      "execution_count": null,
      "outputs": []
    },
    {
      "cell_type": "code",
      "source": [
        "# Create qrel to modify in google sheets\n",
        "qrel_filename = os.path.join(\"./gdrive/MyDrive/IRCourse_Project_Files\", \"QE_qrel.txt\")\n",
        "QE_qrel_df = QE_results.copy()\n",
        "QE_qrel_df = QE_qrel_df.drop(columns=[\"index\", \"rank\", \"query_0\", \"query\"])\n",
        "QE_qrel_df = QE_qrel_df.rename(columns={\"docid\": \"0\"})\n",
        "QE_qrel_df['0'] = 0\n",
        "QE_qrel_df['score'] = 9\n",
        "\n",
        "QE_qrel_df.to_csv(qrel_filename, sep=\"\\t\")"
      ],
      "metadata": {
        "id": "T2IH59KsJVRA"
      },
      "execution_count": null,
      "outputs": []
    }
  ]
}